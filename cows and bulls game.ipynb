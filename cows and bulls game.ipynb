{
 "cells": [
  {
   "cell_type": "code",
   "execution_count": 1,
   "id": "243aa88a",
   "metadata": {},
   "outputs": [
    {
     "name": "stdout",
     "output_type": "stream",
     "text": [
      "7235\n",
      "enter the 4 digit number8745\n",
      "your guess is wrong!\n",
      "cows:1 bulls:1\n",
      "enter the 4 digit number5678\n",
      "your guess is wrong!\n",
      "cows:2 bulls:0\n",
      "enter the 4 digit number7253\n",
      "your guess is wrong!\n",
      "cows:2 bulls:2\n",
      "enter the 4 digit number7235\n",
      "your guess is right!\n",
      "cows:0 bulls:4\n"
     ]
    }
   ],
   "source": [
    "import random\n",
    "def g_num():\n",
    "    num = random.randint(1000,9999)\n",
    "    if(dup(num)):\n",
    "        return(num)\n",
    "    else:\n",
    "        g_num()\n",
    "def dup(n):\n",
    "    s=set(str(n))\n",
    "    if (len(s)==len(str(n))):\n",
    "        return True\n",
    "    else:\n",
    "        return False\n",
    "def play():\n",
    "    n=g_num()\n",
    "    print(n)\n",
    "    ch=0\n",
    "    while ch!=1:\n",
    "        u_i=int(input(\"enter the 4 digit number\"))\n",
    "        if(len(str(u_i))!=4):\n",
    "            print(\"enter the number again\")\n",
    "        else:\n",
    "            c,b=0,0\n",
    "            s=str(n)\n",
    "            for i in range(4):\n",
    "                if(str(u_i)[i] in s):\n",
    "                    e=s.index(str(u_i)[i])\n",
    "                    if(e==i):\n",
    "                        b+=1\n",
    "                    else:\n",
    "                        c+=1\n",
    "            if(b==4):\n",
    "                print(\"your guess is right!\")\n",
    "                print(\"cows:{} bulls:{}\".format(c,b))\n",
    "                ch=1\n",
    "            else:\n",
    "                print(\"your guess is wrong!\")\n",
    "                print(\"cows:{} bulls:{}\".format(c,b))\n",
    "                ch=-1\n",
    "play()\n",
    "\n",
    "    \n",
    "    "
   ]
  },
  {
   "cell_type": "code",
   "execution_count": null,
   "id": "7b153e2a",
   "metadata": {},
   "outputs": [],
   "source": []
  }
 ],
 "metadata": {
  "kernelspec": {
   "display_name": "Python 3",
   "language": "python",
   "name": "python3"
  },
  "language_info": {
   "codemirror_mode": {
    "name": "ipython",
    "version": 3
   },
   "file_extension": ".py",
   "mimetype": "text/x-python",
   "name": "python",
   "nbconvert_exporter": "python",
   "pygments_lexer": "ipython3",
   "version": "3.8.8"
  }
 },
 "nbformat": 4,
 "nbformat_minor": 5
}
