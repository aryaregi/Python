{
 "cells": [
  {
   "cell_type": "code",
   "execution_count": null,
   "id": "63a60f7c",
   "metadata": {},
   "outputs": [
    {
     "name": "stdout",
     "output_type": "stream",
     "text": [
      "Rock, Paper, Scissors?Paper\n",
      "Tie!\n",
      "Paper\n",
      "Rock, Paper, Scissors?Rock\n",
      "You win!\n",
      "Scissors\n"
     ]
    }
   ],
   "source": [
    "from random import randint\n",
    "\n",
    "\n",
    "t = [\"Rock\", \"Paper\", \"Scissors\"]\n",
    "\n",
    "u= t[randint(0,2)]\n",
    "\n",
    "\n",
    "\n",
    "player = False\n",
    "\n",
    "while player == False:\n",
    "\n",
    "    player = input(\"Rock, Paper, Scissors?\")\n",
    "    if player == u:\n",
    "        print(\"Tie!\")\n",
    "    elif player == \"Rock\":\n",
    "        if u == \"Paper\":\n",
    "            print(\"You lose!\")\n",
    "        else:\n",
    "            print(\"You win!\")\n",
    "    elif player == \"Paper\":\n",
    "        if u == \"Scissors\":\n",
    "            print(\"You lose!\")\n",
    "        else:\n",
    "            print(\"You win!\")\n",
    "    elif player == \"Scissors\":\n",
    "        if u== \"Rock\":\n",
    "            print(\"You lose...\")\n",
    "        else:\n",
    "            print(\"You win!\")\n",
    "    \n",
    "    else:\n",
    "        print(\"That's not a valid play. Check your spelling!\")\n",
    "    print(u)\n",
    "    player = False\n",
    "    u = t[randint(0,2)]\n",
    "    "
   ]
  },
  {
   "cell_type": "code",
   "execution_count": null,
   "id": "3a939031",
   "metadata": {},
   "outputs": [],
   "source": []
  }
 ],
 "metadata": {
  "kernelspec": {
   "display_name": "Python 3",
   "language": "python",
   "name": "python3"
  },
  "language_info": {
   "codemirror_mode": {
    "name": "ipython",
    "version": 3
   },
   "file_extension": ".py",
   "mimetype": "text/x-python",
   "name": "python",
   "nbconvert_exporter": "python",
   "pygments_lexer": "ipython3",
   "version": "3.8.8"
  }
 },
 "nbformat": 4,
 "nbformat_minor": 5
}
